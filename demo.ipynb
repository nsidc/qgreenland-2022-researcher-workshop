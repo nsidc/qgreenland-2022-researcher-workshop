{
 "cells": [
  {
   "cell_type": "markdown",
   "id": "264fd5ea-23e2-450d-9470-f2ba2c5339d6",
   "metadata": {
    "tags": []
   },
   "source": [
    "# 👋 🌍 I'm a Jupyter Notebook"
   ]
  },
  {
   "cell_type": "markdown",
   "id": "8ea90b35-ddc4-414e-842a-1af7108b09f9",
   "metadata": {
    "jp-MarkdownHeadingCollapsed": true,
    "tags": []
   },
   "source": [
    "### ✨ I can show rich text with [Markdown](https://jupyter-notebook.readthedocs.io/en/stable/examples/Notebook/Working%20With%20Markdown%20Cells.html)"
   ]
  },
  {
   "cell_type": "markdown",
   "id": "33cb43f9-d863-4daf-a2e2-70c1d8d4ee88",
   "metadata": {},
   "source": [
    "I can render math with [MathJax](https://jupyter-notebook.readthedocs.io/en/stable/examples/Notebook/Typesetting%20Equations.html):\n",
    "\n",
    "$$\\Large\\tau > \\pi$$"
   ]
  },
  {
   "cell_type": "markdown",
   "id": "4cc6bb4a-1f3b-4980-b50a-26c460800abf",
   "metadata": {
    "jp-MarkdownHeadingCollapsed": true,
    "tags": []
   },
   "source": [
    "### 🐍 I can execute code"
   ]
  },
  {
   "cell_type": "code",
   "execution_count": null,
   "id": "a3f64d75-f8c2-40d5-936b-0a9e1e55fd27",
   "metadata": {},
   "outputs": [],
   "source": [
    "print(f\"I can calculate with Python! {1+1=}\")"
   ]
  },
  {
   "cell_type": "markdown",
   "id": "404d1528-7cce-4d49-836f-6cd6589241bf",
   "metadata": {
    "jp-MarkdownHeadingCollapsed": true,
    "tags": []
   },
   "source": [
    "### 🐚 I can use terminal commands"
   ]
  },
  {
   "cell_type": "markdown",
   "id": "f211f53e-9f0d-48dc-aa04-818493c0f883",
   "metadata": {},
   "source": [
    "Prefix shell commands with `!`, or add `%%bash` to the top of a cell:"
   ]
  },
  {
   "cell_type": "code",
   "execution_count": null,
   "id": "7681f9a8-79bd-493d-bfc7-9caf39922e10",
   "metadata": {},
   "outputs": [],
   "source": [
    "%%bash\n",
    "ogrinfo --version"
   ]
  },
  {
   "cell_type": "code",
   "execution_count": null,
   "id": "739bc5cd-7c81-4049-a7c5-527cb9295173",
   "metadata": {},
   "outputs": [],
   "source": [
    "# Loop with Python, print with shell:\n",
    "for i in [1, 2, 3]:\n",
    "    !echo {i}"
   ]
  },
  {
   "cell_type": "markdown",
   "id": "6b22d039-24ad-4cb3-8e6b-174b507d7166",
   "metadata": {
    "jp-MarkdownHeadingCollapsed": true,
    "tags": []
   },
   "source": [
    "### 💾 I can download data"
   ]
  },
  {
   "cell_type": "markdown",
   "id": "13cb3d1c-ae6c-4ffe-bd2f-088a7c0b088e",
   "metadata": {},
   "source": [
    "With this special `%%script` notation, Python variables can be shared with shell code and re-used multiple times."
   ]
  },
  {
   "cell_type": "code",
   "execution_count": null,
   "id": "947657e1-1c7d-4ed3-b994-8eed1a2a77fc",
   "metadata": {},
   "outputs": [],
   "source": [
    "# A _very_ rough boundary of Greenland from https://github.com/johan/world.geo.json\n",
    "geojson_url = \"https://raw.githubusercontent.com/johan/world.geo.json/master/countries/GRL.geo.json\"\n",
    "geojson_filename = \"greenland-border.geojson\""
   ]
  },
  {
   "cell_type": "code",
   "execution_count": null,
   "id": "88b5071a-1179-4a6f-9431-bea01b6ac8ff",
   "metadata": {},
   "outputs": [],
   "source": [
    "%%script env GEOJSON_FILENAME=\"$geojson_filename\" GEOJSON_URL=\"$geojson_url\" bash\n",
    "curl \"$GEOJSON_URL\" --output \"$GEOJSON_FILENAME\""
   ]
  },
  {
   "cell_type": "markdown",
   "id": "dc81f345-6cb1-4ec2-9555-e7e0db99b2da",
   "metadata": {
    "jp-MarkdownHeadingCollapsed": true,
    "tags": []
   },
   "source": [
    "### 🔍 I can inspect data"
   ]
  },
  {
   "cell_type": "code",
   "execution_count": null,
   "id": "4d173e3d-1401-46d8-9939-5177c86809e9",
   "metadata": {},
   "outputs": [],
   "source": [
    "%%script env GEOJSON_FILENAME=\"$geojson_filename\" bash\n",
    "\n",
    "# Documentation: https://gdal.org/programs/ogrinfo.html\n",
    "ogrinfo -al -geom=SUMMARY \"$GEOJSON_FILENAME\""
   ]
  },
  {
   "cell_type": "markdown",
   "id": "614a4b23-bb3e-4685-a15e-368aa265d2ed",
   "metadata": {},
   "source": [
    "Above, we can see that the `EPSG:4326` CRS was detected. That's the \"default\" CRS for GeoJSON data. The raw data actually has no CRS encoded.\n",
    "\n",
    "This can be verified by opening the GeoJSON file in a text editor (right click -> `Open With` -> `Editor`)"
   ]
  },
  {
   "cell_type": "markdown",
   "id": "557c7100-f0c4-4caa-aa51-6a390efc6e52",
   "metadata": {
    "jp-MarkdownHeadingCollapsed": true,
    "tags": []
   },
   "source": [
    "### 🗺️ I can show maps and plots"
   ]
  },
  {
   "cell_type": "code",
   "execution_count": null,
   "id": "67189302-9949-4d82-adab-ea438fa2aa4a",
   "metadata": {},
   "outputs": [],
   "source": [
    "import cartopy.crs as ccrs\n",
    "import geopandas\n",
    "import matplotlib.pyplot as plt\n",
    "\n",
    "ax = plt.axes(projection=ccrs.NorthPolarStereo(central_longitude=-45))\n",
    "ax.set_extent([-180, 180, 90, 55], crs=ccrs.PlateCarree())\n",
    "ax.stock_img()\n",
    "\n",
    "data = geopandas.read_file(geojson_filename)\n",
    "ax.add_geometries(\n",
    "    data.geometry,\n",
    "    crs=ccrs.PlateCarree(),\n",
    "    facecolor=\"red\",\n",
    "    edgecolor=\"black\",\n",
    ")\n",
    "\n",
    "\n",
    "plt.show()"
   ]
  },
  {
   "cell_type": "markdown",
   "id": "24e69ccb-4a26-4b0e-aae5-654c16375014",
   "metadata": {
    "jp-MarkdownHeadingCollapsed": true,
    "tags": []
   },
   "source": [
    "## 🛠️ TODO"
   ]
  },
  {
   "cell_type": "markdown",
   "id": "ff229e58-a48a-447c-91ec-8e33d8f7a244",
   "metadata": {},
   "source": [
    "* Maybe programmatically generate a random distribution of points over an\n",
    "  area in Greenland (e.g. use the extent of \"Greenland coastlines 2017\" layer as the\n",
    "  x/y extents for random-number generation, then filter those random coordinates\n",
    "  using the \"Greenland coastlines 2017\" layer).\n",
    "* Maybe filter the \"Place names database\" layer by:\n",
    "    * Random sample\n",
    "    * Maximum of a particular attribute"
   ]
  }
 ],
 "metadata": {
  "kernelspec": {
   "display_name": "Python 3 (ipykernel)",
   "language": "python",
   "name": "python3"
  },
  "language_info": {
   "codemirror_mode": {
    "name": "ipython",
    "version": 3
   },
   "file_extension": ".py",
   "mimetype": "text/x-python",
   "name": "python",
   "nbconvert_exporter": "python",
   "pygments_lexer": "ipython3",
   "version": "3.10.8"
  }
 },
 "nbformat": 4,
 "nbformat_minor": 5
}
